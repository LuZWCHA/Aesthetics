{
 "cells": [
  {
   "cell_type": "markdown",
   "metadata": {},
   "source": [
    "---\n",
    "# Clustering dominant colours with KMedoids\n",
    "---\n",
    "---"
   ]
  },
  {
   "cell_type": "code",
   "execution_count": 65,
   "metadata": {},
   "outputs": [],
   "source": [
    "from sklearn.cluster import KMeans\n",
    "import matplotlib.pyplot as plt\n",
    "import cv2\n",
    "import numpy as np\n",
    "import pandas as pd\n",
    "import pickle\n",
    "import glob\n",
    "from PIL import Image\n",
    "from skimage import io\n",
    "from skimage.color import rgb2lab, lab2rgb, xyz2lab, xyz2rgb, rgb2xyz, lab2xyz, deltaE_ciede94, deltaE_ciede2000\n",
    "import time"
   ]
  },
  {
   "cell_type": "code",
   "execution_count": 2,
   "metadata": {},
   "outputs": [],
   "source": [
    "imgs = Image.open('Bilder\\\\TEST.jpg') \n",
    "imgs.thumbnail((20, 20))\n",
    "imgs.save('Bilder\\\\TESTi.jpg')"
   ]
  },
  {
   "cell_type": "code",
   "execution_count": 3,
   "metadata": {},
   "outputs": [],
   "source": [
    "image = cv2.imread('Bilder\\\\TESTi.jpg')\n",
    "image = cv2.cvtColor(image, cv2.COLOR_BGR2RGB) \n",
    "image = image.reshape((image.shape[0] * image.shape[1], 3))\n",
    "lab=rgb2lab(image)\n",
    "images=[lab]\n",
    "image_names=['Bilder\\\\TESTi.jpg']"
   ]
  },
  {
   "cell_type": "code",
   "execution_count": 43,
   "metadata": {},
   "outputs": [],
   "source": [
    "def plot_image(image):\n",
    "    plt.figure()\n",
    "    plt.axis(\"off\")\n",
    "    plt.imshow(image)"
   ]
  },
  {
   "cell_type": "code",
   "execution_count": 4,
   "metadata": {},
   "outputs": [],
   "source": [
    "k=0"
   ]
  },
  {
   "cell_type": "code",
   "execution_count": 5,
   "metadata": {},
   "outputs": [],
   "source": [
    "begin = time.time()\n",
    "dislab=pd.DataFrame()#columns=range(99))\n",
    "for i in range(0,len(images[k])-1):\n",
    "    l = [0] * (i+1)\n",
    "    lo=pd.DataFrame()\n",
    "    for j in range(i+1,len(images[k])):\n",
    "        data=deltaE_ciede2000(images[k][i],images[k][j])\n",
    "        l.append(data)\n",
    "            #print(l)\n",
    "    lo=lo.append(l).T\n",
    "        #lo.append(l)\n",
    "        #print(lo)\n",
    "    dislab=dislab.append(lo).reset_index(drop=True)\n",
    "time.sleep(1)\n",
    "end = time.time()"
   ]
  },
  {
   "cell_type": "code",
   "execution_count": 6,
   "metadata": {},
   "outputs": [
    {
     "data": {
      "text/html": [
       "<div>\n",
       "<style scoped>\n",
       "    .dataframe tbody tr th:only-of-type {\n",
       "        vertical-align: middle;\n",
       "    }\n",
       "\n",
       "    .dataframe tbody tr th {\n",
       "        vertical-align: top;\n",
       "    }\n",
       "\n",
       "    .dataframe thead th {\n",
       "        text-align: right;\n",
       "    }\n",
       "</style>\n",
       "<table border=\"1\" class=\"dataframe\">\n",
       "  <thead>\n",
       "    <tr style=\"text-align: right;\">\n",
       "      <th></th>\n",
       "      <th>0</th>\n",
       "      <th>1</th>\n",
       "      <th>2</th>\n",
       "      <th>3</th>\n",
       "      <th>4</th>\n",
       "      <th>5</th>\n",
       "      <th>6</th>\n",
       "      <th>7</th>\n",
       "      <th>8</th>\n",
       "      <th>9</th>\n",
       "      <th>...</th>\n",
       "      <th>390</th>\n",
       "      <th>391</th>\n",
       "      <th>392</th>\n",
       "      <th>393</th>\n",
       "      <th>394</th>\n",
       "      <th>395</th>\n",
       "      <th>396</th>\n",
       "      <th>397</th>\n",
       "      <th>398</th>\n",
       "      <th>399</th>\n",
       "    </tr>\n",
       "  </thead>\n",
       "  <tbody>\n",
       "    <tr>\n",
       "      <th>0</th>\n",
       "      <td>0.000000</td>\n",
       "      <td>0.907234</td>\n",
       "      <td>1.864079</td>\n",
       "      <td>1.660936</td>\n",
       "      <td>2.002312</td>\n",
       "      <td>2.372079</td>\n",
       "      <td>2.930946</td>\n",
       "      <td>3.768548</td>\n",
       "      <td>4.310330</td>\n",
       "      <td>5.172224</td>\n",
       "      <td>...</td>\n",
       "      <td>67.782279</td>\n",
       "      <td>66.071514</td>\n",
       "      <td>32.615551</td>\n",
       "      <td>10.131738</td>\n",
       "      <td>12.678184</td>\n",
       "      <td>40.856083</td>\n",
       "      <td>63.429722</td>\n",
       "      <td>64.005529</td>\n",
       "      <td>54.966015</td>\n",
       "      <td>69.387795</td>\n",
       "    </tr>\n",
       "    <tr>\n",
       "      <th>1</th>\n",
       "      <td>0.907234</td>\n",
       "      <td>0.000000</td>\n",
       "      <td>1.182593</td>\n",
       "      <td>1.376182</td>\n",
       "      <td>1.558974</td>\n",
       "      <td>1.803441</td>\n",
       "      <td>2.537442</td>\n",
       "      <td>3.290679</td>\n",
       "      <td>3.934857</td>\n",
       "      <td>4.749142</td>\n",
       "      <td>...</td>\n",
       "      <td>68.326030</td>\n",
       "      <td>66.623099</td>\n",
       "      <td>33.287846</td>\n",
       "      <td>9.917712</td>\n",
       "      <td>13.144342</td>\n",
       "      <td>41.484784</td>\n",
       "      <td>63.950835</td>\n",
       "      <td>64.519097</td>\n",
       "      <td>55.528317</td>\n",
       "      <td>69.864007</td>\n",
       "    </tr>\n",
       "    <tr>\n",
       "      <th>2</th>\n",
       "      <td>1.864079</td>\n",
       "      <td>1.182593</td>\n",
       "      <td>0.000000</td>\n",
       "      <td>0.800455</td>\n",
       "      <td>1.425895</td>\n",
       "      <td>1.850312</td>\n",
       "      <td>2.830622</td>\n",
       "      <td>2.671349</td>\n",
       "      <td>3.946630</td>\n",
       "      <td>4.457740</td>\n",
       "      <td>...</td>\n",
       "      <td>68.380252</td>\n",
       "      <td>66.668207</td>\n",
       "      <td>33.281128</td>\n",
       "      <td>9.224811</td>\n",
       "      <td>12.899015</td>\n",
       "      <td>41.428440</td>\n",
       "      <td>63.905377</td>\n",
       "      <td>64.469380</td>\n",
       "      <td>55.467681</td>\n",
       "      <td>69.817927</td>\n",
       "    </tr>\n",
       "    <tr>\n",
       "      <th>3</th>\n",
       "      <td>1.660936</td>\n",
       "      <td>1.376182</td>\n",
       "      <td>0.800455</td>\n",
       "      <td>0.000000</td>\n",
       "      <td>1.436227</td>\n",
       "      <td>2.107529</td>\n",
       "      <td>3.016117</td>\n",
       "      <td>2.691086</td>\n",
       "      <td>4.064758</td>\n",
       "      <td>4.540263</td>\n",
       "      <td>...</td>\n",
       "      <td>67.823637</td>\n",
       "      <td>66.098094</td>\n",
       "      <td>32.567083</td>\n",
       "      <td>9.237358</td>\n",
       "      <td>12.323382</td>\n",
       "      <td>40.721967</td>\n",
       "      <td>63.313884</td>\n",
       "      <td>63.882030</td>\n",
       "      <td>54.821067</td>\n",
       "      <td>69.273821</td>\n",
       "    </tr>\n",
       "    <tr>\n",
       "      <th>4</th>\n",
       "      <td>2.002312</td>\n",
       "      <td>1.558974</td>\n",
       "      <td>1.425895</td>\n",
       "      <td>1.436227</td>\n",
       "      <td>0.000000</td>\n",
       "      <td>0.784418</td>\n",
       "      <td>1.628944</td>\n",
       "      <td>1.809906</td>\n",
       "      <td>2.656970</td>\n",
       "      <td>3.301595</td>\n",
       "      <td>...</td>\n",
       "      <td>68.356716</td>\n",
       "      <td>66.638339</td>\n",
       "      <td>33.383346</td>\n",
       "      <td>10.481035</td>\n",
       "      <td>13.565215</td>\n",
       "      <td>41.396349</td>\n",
       "      <td>63.803547</td>\n",
       "      <td>64.353458</td>\n",
       "      <td>55.343738</td>\n",
       "      <td>69.713387</td>\n",
       "    </tr>\n",
       "    <tr>\n",
       "      <th>...</th>\n",
       "      <td>...</td>\n",
       "      <td>...</td>\n",
       "      <td>...</td>\n",
       "      <td>...</td>\n",
       "      <td>...</td>\n",
       "      <td>...</td>\n",
       "      <td>...</td>\n",
       "      <td>...</td>\n",
       "      <td>...</td>\n",
       "      <td>...</td>\n",
       "      <td>...</td>\n",
       "      <td>...</td>\n",
       "      <td>...</td>\n",
       "      <td>...</td>\n",
       "      <td>...</td>\n",
       "      <td>...</td>\n",
       "      <td>...</td>\n",
       "      <td>...</td>\n",
       "      <td>...</td>\n",
       "      <td>...</td>\n",
       "      <td>...</td>\n",
       "    </tr>\n",
       "    <tr>\n",
       "      <th>395</th>\n",
       "      <td>40.856083</td>\n",
       "      <td>41.484784</td>\n",
       "      <td>41.428440</td>\n",
       "      <td>40.721967</td>\n",
       "      <td>41.396349</td>\n",
       "      <td>42.050535</td>\n",
       "      <td>42.335849</td>\n",
       "      <td>41.572552</td>\n",
       "      <td>42.544712</td>\n",
       "      <td>42.471251</td>\n",
       "      <td>...</td>\n",
       "      <td>20.015305</td>\n",
       "      <td>18.968356</td>\n",
       "      <td>10.102405</td>\n",
       "      <td>40.176573</td>\n",
       "      <td>31.661653</td>\n",
       "      <td>0.000000</td>\n",
       "      <td>17.073061</td>\n",
       "      <td>17.521901</td>\n",
       "      <td>12.090336</td>\n",
       "      <td>20.309123</td>\n",
       "    </tr>\n",
       "    <tr>\n",
       "      <th>396</th>\n",
       "      <td>63.429722</td>\n",
       "      <td>63.950835</td>\n",
       "      <td>63.905377</td>\n",
       "      <td>63.313884</td>\n",
       "      <td>63.803547</td>\n",
       "      <td>64.330921</td>\n",
       "      <td>64.521711</td>\n",
       "      <td>63.878576</td>\n",
       "      <td>64.609841</td>\n",
       "      <td>64.509759</td>\n",
       "      <td>...</td>\n",
       "      <td>7.977219</td>\n",
       "      <td>7.058926</td>\n",
       "      <td>27.043000</td>\n",
       "      <td>63.101912</td>\n",
       "      <td>56.144952</td>\n",
       "      <td>17.073061</td>\n",
       "      <td>0.000000</td>\n",
       "      <td>0.953547</td>\n",
       "      <td>5.408167</td>\n",
       "      <td>3.331745</td>\n",
       "    </tr>\n",
       "    <tr>\n",
       "      <th>397</th>\n",
       "      <td>64.005529</td>\n",
       "      <td>64.519097</td>\n",
       "      <td>64.469380</td>\n",
       "      <td>63.882030</td>\n",
       "      <td>64.353458</td>\n",
       "      <td>64.873795</td>\n",
       "      <td>65.056264</td>\n",
       "      <td>64.408540</td>\n",
       "      <td>65.124344</td>\n",
       "      <td>65.013634</td>\n",
       "      <td>...</td>\n",
       "      <td>8.705857</td>\n",
       "      <td>7.833677</td>\n",
       "      <td>27.536865</td>\n",
       "      <td>63.755506</td>\n",
       "      <td>56.867411</td>\n",
       "      <td>17.521901</td>\n",
       "      <td>0.953547</td>\n",
       "      <td>0.000000</td>\n",
       "      <td>5.650285</td>\n",
       "      <td>2.900601</td>\n",
       "    </tr>\n",
       "    <tr>\n",
       "      <th>398</th>\n",
       "      <td>54.966015</td>\n",
       "      <td>55.528317</td>\n",
       "      <td>55.467681</td>\n",
       "      <td>54.821067</td>\n",
       "      <td>55.343738</td>\n",
       "      <td>55.918064</td>\n",
       "      <td>56.123778</td>\n",
       "      <td>55.401338</td>\n",
       "      <td>56.200101</td>\n",
       "      <td>56.075641</td>\n",
       "      <td>...</td>\n",
       "      <td>11.469931</td>\n",
       "      <td>10.334210</td>\n",
       "      <td>22.340019</td>\n",
       "      <td>54.696886</td>\n",
       "      <td>47.107591</td>\n",
       "      <td>12.090336</td>\n",
       "      <td>5.408167</td>\n",
       "      <td>5.650285</td>\n",
       "      <td>0.000000</td>\n",
       "      <td>8.542238</td>\n",
       "    </tr>\n",
       "    <tr>\n",
       "      <th>399</th>\n",
       "      <td>69.387795</td>\n",
       "      <td>69.864007</td>\n",
       "      <td>69.817927</td>\n",
       "      <td>69.273821</td>\n",
       "      <td>69.713387</td>\n",
       "      <td>70.196634</td>\n",
       "      <td>70.367475</td>\n",
       "      <td>69.766925</td>\n",
       "      <td>70.433733</td>\n",
       "      <td>70.332237</td>\n",
       "      <td>...</td>\n",
       "      <td>8.445009</td>\n",
       "      <td>7.891287</td>\n",
       "      <td>30.190870</td>\n",
       "      <td>69.134187</td>\n",
       "      <td>62.511855</td>\n",
       "      <td>20.309123</td>\n",
       "      <td>3.331745</td>\n",
       "      <td>2.900601</td>\n",
       "      <td>8.542238</td>\n",
       "      <td>0.000000</td>\n",
       "    </tr>\n",
       "  </tbody>\n",
       "</table>\n",
       "<p>400 rows × 400 columns</p>\n",
       "</div>"
      ],
      "text/plain": [
       "           0          1          2          3          4          5    \\\n",
       "0     0.000000   0.907234   1.864079   1.660936   2.002312   2.372079   \n",
       "1     0.907234   0.000000   1.182593   1.376182   1.558974   1.803441   \n",
       "2     1.864079   1.182593   0.000000   0.800455   1.425895   1.850312   \n",
       "3     1.660936   1.376182   0.800455   0.000000   1.436227   2.107529   \n",
       "4     2.002312   1.558974   1.425895   1.436227   0.000000   0.784418   \n",
       "..         ...        ...        ...        ...        ...        ...   \n",
       "395  40.856083  41.484784  41.428440  40.721967  41.396349  42.050535   \n",
       "396  63.429722  63.950835  63.905377  63.313884  63.803547  64.330921   \n",
       "397  64.005529  64.519097  64.469380  63.882030  64.353458  64.873795   \n",
       "398  54.966015  55.528317  55.467681  54.821067  55.343738  55.918064   \n",
       "399  69.387795  69.864007  69.817927  69.273821  69.713387  70.196634   \n",
       "\n",
       "           6          7          8          9    ...        390        391  \\\n",
       "0     2.930946   3.768548   4.310330   5.172224  ...  67.782279  66.071514   \n",
       "1     2.537442   3.290679   3.934857   4.749142  ...  68.326030  66.623099   \n",
       "2     2.830622   2.671349   3.946630   4.457740  ...  68.380252  66.668207   \n",
       "3     3.016117   2.691086   4.064758   4.540263  ...  67.823637  66.098094   \n",
       "4     1.628944   1.809906   2.656970   3.301595  ...  68.356716  66.638339   \n",
       "..         ...        ...        ...        ...  ...        ...        ...   \n",
       "395  42.335849  41.572552  42.544712  42.471251  ...  20.015305  18.968356   \n",
       "396  64.521711  63.878576  64.609841  64.509759  ...   7.977219   7.058926   \n",
       "397  65.056264  64.408540  65.124344  65.013634  ...   8.705857   7.833677   \n",
       "398  56.123778  55.401338  56.200101  56.075641  ...  11.469931  10.334210   \n",
       "399  70.367475  69.766925  70.433733  70.332237  ...   8.445009   7.891287   \n",
       "\n",
       "           392        393        394        395        396        397  \\\n",
       "0    32.615551  10.131738  12.678184  40.856083  63.429722  64.005529   \n",
       "1    33.287846   9.917712  13.144342  41.484784  63.950835  64.519097   \n",
       "2    33.281128   9.224811  12.899015  41.428440  63.905377  64.469380   \n",
       "3    32.567083   9.237358  12.323382  40.721967  63.313884  63.882030   \n",
       "4    33.383346  10.481035  13.565215  41.396349  63.803547  64.353458   \n",
       "..         ...        ...        ...        ...        ...        ...   \n",
       "395  10.102405  40.176573  31.661653   0.000000  17.073061  17.521901   \n",
       "396  27.043000  63.101912  56.144952  17.073061   0.000000   0.953547   \n",
       "397  27.536865  63.755506  56.867411  17.521901   0.953547   0.000000   \n",
       "398  22.340019  54.696886  47.107591  12.090336   5.408167   5.650285   \n",
       "399  30.190870  69.134187  62.511855  20.309123   3.331745   2.900601   \n",
       "\n",
       "           398        399  \n",
       "0    54.966015  69.387795  \n",
       "1    55.528317  69.864007  \n",
       "2    55.467681  69.817927  \n",
       "3    54.821067  69.273821  \n",
       "4    55.343738  69.713387  \n",
       "..         ...        ...  \n",
       "395  12.090336  20.309123  \n",
       "396   5.408167   3.331745  \n",
       "397   5.650285   2.900601  \n",
       "398   0.000000   8.542238  \n",
       "399   8.542238   0.000000  \n",
       "\n",
       "[400 rows x 400 columns]"
      ]
     },
     "execution_count": 6,
     "metadata": {},
     "output_type": "execute_result"
    }
   ],
   "source": [
    "dislabT=dislab.T.reset_index(drop=True)\n",
    "distance_df=dislab.reset_index(drop=True).add(dislabT, fill_value=0).fillna(0)\n",
    "pickle.dump(distance_df, open(\"deltaE\"+image_names[k], \"wb\"))\n",
    "distance_df"
   ]
  },
  {
   "cell_type": "code",
   "execution_count": 8,
   "metadata": {},
   "outputs": [],
   "source": [
    "from sklearn_extra.cluster import KMedoids\n",
    "\n",
    "data = images[0]\n",
    "dist = distance_df # Returns NxN array where N is the amount of data points\n",
    "\n",
    "kmedoids = KMedoids(n_clusters=5,metric='precomputed').fit(dist)\n",
    "labels = kmedoids.predict(dist)\n",
    "cc=kmedoids.cluster_centers_"
   ]
  },
  {
   "cell_type": "code",
   "execution_count": 9,
   "metadata": {},
   "outputs": [],
   "source": [
    "distance_df.insert(0, 'Cluster Labels', labels)"
   ]
  },
  {
   "cell_type": "code",
   "execution_count": 10,
   "metadata": {},
   "outputs": [],
   "source": [
    "def cluster(n):\n",
    "    cluster=distance_df.loc[distance_df['Cluster Labels'] == n][distance_df.index[distance_df['Cluster Labels'] == n].tolist()]\n",
    "    return cluster"
   ]
  },
  {
   "cell_type": "code",
   "execution_count": 11,
   "metadata": {},
   "outputs": [],
   "source": [
    "def find_centroid(n):\n",
    "    clstr=cluster(n)\n",
    "    summe=clstr.sum(axis=1)\n",
    "    clstr['sum']=summe\n",
    "    centroid_row=clstr.loc[clstr['sum']==min(summe)]\n",
    "    centroid=centroid_row.index[0]\n",
    "    return centroid"
   ]
  },
  {
   "cell_type": "code",
   "execution_count": 46,
   "metadata": {},
   "outputs": [
    {
     "data": {
      "image/png": "[encoded data removed]",
      "text/plain": [
       "<Figure size 432x288 with 1 Axes>"
      ]
     },
     "metadata": {
      "needs_background": "light"
     },
     "output_type": "display_data"
    }
   ],
   "source": [
    "plot_image(cv2.cvtColor(cv2.imread('Bilder\\\\TESTi.jpg'), cv2.COLOR_BGR2RGB))"
   ]
  },
  {
   "cell_type": "code",
   "execution_count": 12,
   "metadata": {},
   "outputs": [],
   "source": [
    "def get_value_centroid(k,n):\n",
    "    return images[k][find_centroid(n)]"
   ]
  },
  {
   "cell_type": "code",
   "execution_count": 68,
   "metadata": {},
   "outputs": [
    {
     "data": {
      "text/plain": [
       "array([59, 62, 35], dtype=uint8)"
      ]
     },
     "execution_count": 68,
     "metadata": {},
     "output_type": "execute_result"
    }
   ],
   "source": [
    "image[find_centroid(1)]"
   ]
  },
  {
   "cell_type": "code",
   "execution_count": 13,
   "metadata": {},
   "outputs": [],
   "source": [
    "def get_size_colour(n):\n",
    "    return len(cluster(n))"
   ]
  },
  {
   "cell_type": "code",
   "execution_count": 14,
   "metadata": {},
   "outputs": [],
   "source": [
    "def rgb_centroid(n):\n",
    "    return lab2rgb(get_value_centroid(0,n))"
   ]
  },
  {
   "cell_type": "code",
   "execution_count": 69,
   "metadata": {},
   "outputs": [
    {
     "data": {
      "text/plain": [
       "[array([ 83, 124, 110], dtype=uint8),\n",
       " array([59, 62, 35], dtype=uint8),\n",
       " array([162, 171, 142], dtype=uint8),\n",
       " array([237, 243, 233], dtype=uint8),\n",
       " array([135, 170, 174], dtype=uint8)]"
      ]
     },
     "execution_count": 69,
     "metadata": {},
     "output_type": "execute_result"
    }
   ],
   "source": [
    "# take the original rgb image\n",
    "centroids=[image[find_centroid(n)] for n in range(0,5)]\n",
    "centroids"
   ]
  },
  {
   "cell_type": "code",
   "execution_count": 70,
   "metadata": {},
   "outputs": [],
   "source": [
    "def centroid_histogram(labels):\n",
    "    numLabels = np.arange(0, len(np.unique(labels)) + 1)\n",
    "    (hist, _) = np.histogram(labels, bins = numLabels)\n",
    "    hist = hist.astype(\"float\")\n",
    "    hist /= hist.sum()\n",
    "    return hist"
   ]
  },
  {
   "cell_type": "code",
   "execution_count": 71,
   "metadata": {},
   "outputs": [],
   "source": [
    "def plot_colours(hist, centroids):\n",
    "    bar = np.zeros((50, 300, 3), dtype = \"uint8\")\n",
    "    startX = 0\n",
    "    for (percent, color) in zip(hist, centroids):\n",
    "        endX = startX + (percent * 300)\n",
    "        cv2.rectangle(bar, (int(startX), 0), (int(endX), 50),\n",
    "            color.astype(\"uint8\").tolist(), -1)\n",
    "        startX = endX\n",
    "    return bar\n",
    "def plot_and_save_dominating_colours(labels, centroids):\n",
    "    hist = centroid_histogram(labels)\n",
    "    bar = plot_colours(hist, centroids)\n",
    "\n",
    "    plt.figure()\n",
    "    plt.axis(\"off\")\n",
    "    plt.imshow(bar)\n",
    "    #plt.savefig(name,dpi=400,bbox_inches='tight')\n",
    "    plt.show()"
   ]
  },
  {
   "cell_type": "code",
   "execution_count": 72,
   "metadata": {},
   "outputs": [
    {
     "data": {
      "image/png": "[encoded data removed]",
      "text/plain": [
       "<Figure size 432x288 with 1 Axes>"
      ]
     },
     "metadata": {
      "needs_background": "light"
     },
     "output_type": "display_data"
    }
   ],
   "source": [
    "plot_and_save_dominating_colours(labels, centroids)"
   ]
  },
  {
   "cell_type": "code",
   "execution_count": 73,
   "metadata": {},
   "outputs": [
    {
     "data": {
      "text/plain": [
       "KMeans(n_clusters=5)"
      ]
     },
     "execution_count": 73,
     "metadata": {},
     "output_type": "execute_result"
    }
   ],
   "source": [
    "clt = KMeans(n_clusters = 5)\n",
    "clt.fit(image)"
   ]
  },
  {
   "cell_type": "code",
   "execution_count": 77,
   "metadata": {},
   "outputs": [
    {
     "data": {
      "image/png": "[encoded data removed]",
      "text/plain": [
       "<Figure size 432x288 with 1 Axes>"
      ]
     },
     "metadata": {
      "needs_background": "light"
     },
     "output_type": "display_data"
    }
   ],
   "source": [
    "plot_and_save_dominating_colours(clt)"
   ]
  },
  {
   "cell_type": "code",
   "execution_count": null,
   "metadata": {},
   "outputs": [],
   "source": []
  }
 ],
 "metadata": {
  "kernelspec": {
   "display_name": "Python 3",
   "language": "python",
   "name": "python3"
  },
  "language_info": {
   "codemirror_mode": {
    "name": "ipython",
    "version": 3
   },
   "file_extension": ".py",
   "mimetype": "text/x-python",
   "name": "python",
   "nbconvert_exporter": "python",
   "pygments_lexer": "ipython3",
   "version": "3.8.5"
  }
 },
 "nbformat": 4,
 "nbformat_minor": 4
}
